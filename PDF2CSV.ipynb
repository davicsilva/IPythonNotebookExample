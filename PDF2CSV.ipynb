{
  "nbformat": 4,
  "nbformat_minor": 0,
  "metadata": {
    "colab": {
      "provenance": [],
      "authorship_tag": "ABX9TyPVd5gdk2mX7uww5AGjni71",
      "include_colab_link": true
    },
    "kernelspec": {
      "name": "python3",
      "display_name": "Python 3"
    },
    "language_info": {
      "name": "python"
    }
  },
  "cells": [
    {
      "cell_type": "markdown",
      "metadata": {
        "id": "view-in-github",
        "colab_type": "text"
      },
      "source": [
        "<a href=\"https://colab.research.google.com/github/davicsilva/IPythonNotebookExample/blob/master/PDF2CSV.ipynb\" target=\"_parent\"><img src=\"https://colab.research.google.com/assets/colab-badge.svg\" alt=\"Open In Colab\"/></a>"
      ]
    },
    {
      "cell_type": "markdown",
      "source": [
        "### Extratc Table from PDF"
      ],
      "metadata": {
        "id": "LN3tMdHcZnn3"
      }
    },
    {
      "cell_type": "code",
      "execution_count": null,
      "metadata": {
        "id": "cF7kjl-zZUwH"
      },
      "outputs": [],
      "source": [
        "# Lib: Tabula-py\n",
        "# Important link: \n",
        "#\n",
        "!pip install tabula-py"
      ]
    },
    {
      "cell_type": "code",
      "source": [
        "# Load libs\n",
        "import tabula"
      ],
      "metadata": {
        "id": "tLOVZUNEfd1K"
      },
      "execution_count": 16,
      "outputs": []
    },
    {
      "cell_type": "code",
      "source": [
        "# Set the path to your PDF file\n",
        "pdf_file_path = '/content/sample_data/table.pdf'"
      ],
      "metadata": {
        "id": "GbrFIS59fnVp"
      },
      "execution_count": 17,
      "outputs": []
    },
    {
      "cell_type": "code",
      "source": [
        "# Specify the page number(s) or range of pages containing the table\n",
        "# For example, to extract table from page 1: pages='1'\n",
        "# For example, to extract table from pages 1 to 3: pages='1-3'\n",
        "pages = '1'"
      ],
      "metadata": {
        "id": "quMjczrPfuuq"
      },
      "execution_count": 18,
      "outputs": []
    },
    {
      "cell_type": "code",
      "source": [
        "# Extract the table from the PDF\n",
        "df = tabula.read_pdf(pdf_file_path, pages=pages)"
      ],
      "metadata": {
        "id": "ElSr5g5Afyh0"
      },
      "execution_count": 19,
      "outputs": []
    },
    {
      "cell_type": "code",
      "source": [
        "# Print the extracted table\n",
        "print(df)"
      ],
      "metadata": {
        "colab": {
          "base_uri": "https://localhost:8080/"
        },
        "id": "e6xrG826f2Nv",
        "outputId": "b4e4fe60-f9fc-4ccd-8038-69b9e3fe8499"
      },
      "execution_count": 20,
      "outputs": [
        {
          "output_type": "stream",
          "name": "stdout",
          "text": [
            "[    Unnamed: 0    Unnamed: 1 Unnamed: 2   Unnamed: 3    Unnamed: 4  \\\n",
            "0          NaN           NaN        NaN      Ballots           NaN   \n",
            "1   Disability           NaN    Ballots          NaN           NaN   \n",
            "2          NaN  Participants        NaN  Incomplete/           NaN   \n",
            "3     Category           NaN  Completed          NaN      Accuracy   \n",
            "4          NaN           NaN        NaN   Terminated           NaN   \n",
            "5          NaN           NaN        NaN          NaN           NaN   \n",
            "6        Blind             5          1            4    34.5%, n=1   \n",
            "7   Low Vision             5          2            3     98.3% n=2   \n",
            "8          NaN           NaN        NaN          NaN  (97.7%, n=3)   \n",
            "9    Dexterity             5          4            1    98.3%, n=4   \n",
            "10    Mobility             3          3            0    95.4%, n=3   \n",
            "\n",
            "            Results  \n",
            "0               NaN  \n",
            "1               NaN  \n",
            "2               NaN  \n",
            "3           Time to  \n",
            "4               NaN  \n",
            "5          complete  \n",
            "6     1199 sec, n=1  \n",
            "7     1716 sec, n=3  \n",
            "8   (1934 sec, n=2)  \n",
            "9   1672.1 sec, n=4  \n",
            "10    1416 sec, n=3  ]\n"
          ]
        }
      ]
    },
    {
      "cell_type": "code",
      "source": [],
      "metadata": {
        "id": "DYxk2Jzpf5-6"
      },
      "execution_count": null,
      "outputs": []
    }
  ]
}